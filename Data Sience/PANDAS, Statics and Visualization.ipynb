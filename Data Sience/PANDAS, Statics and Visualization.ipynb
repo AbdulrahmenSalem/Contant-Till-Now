{
 "cells": [
  {
   "cell_type": "markdown",
   "id": "8dd220a8",
   "metadata": {},
   "source": [
    "## Declaration\n"
   ]
  },
  {
   "cell_type": "code",
   "execution_count": null,
   "id": "3e1a3d22",
   "metadata": {},
   "outputs": [],
   "source": [
    "import pandas as pd\n",
    "import numpy as np\n",
    "import matplotlib.pyplot as plt\n",
    "import seaborn as sns\n",
    "%matplotlib inline"
   ]
  },
  {
   "cell_type": "markdown",
   "id": "50074f98",
   "metadata": {},
   "source": [
    "## File reading\n"
   ]
  },
  {
   "cell_type": "code",
   "execution_count": null,
   "id": "a992748b",
   "metadata": {},
   "outputs": [],
   "source": [
    "file = pd.read_csv(\"path.csv\")\n",
    "file.head()\n",
    "file.info()\n",
    "file.describe()\n",
    "file.isnull().sum()\n",
    "file.duplicated().sum()"
   ]
  },
  {
   "cell_type": "markdown",
   "id": "02fcc230",
   "metadata": {},
   "source": [
    "## Number of unique values\n"
   ]
  },
  {
   "cell_type": "code",
   "execution_count": null,
   "id": "f86eeaaf",
   "metadata": {},
   "outputs": [],
   "source": [
    "file.nunique()"
   ]
  },
  {
   "cell_type": "markdown",
   "id": "69a1dca2",
   "metadata": {},
   "source": [
    "## Drop null data\n"
   ]
  },
  {
   "cell_type": "code",
   "execution_count": null,
   "id": "d2acfb2f",
   "metadata": {},
   "outputs": [],
   "source": [
    "file=file.dropna(axis=1)"
   ]
  },
  {
   "cell_type": "markdown",
   "id": "c78cf015",
   "metadata": {},
   "source": [
    "## Drop duplicates\n",
    "\n"
   ]
  },
  {
   "cell_type": "code",
   "execution_count": null,
   "id": "bf8b9c83",
   "metadata": {},
   "outputs": [],
   "source": [
    "file.drop_duplicates()"
   ]
  },
  {
   "cell_type": "markdown",
   "id": "69160619",
   "metadata": {},
   "source": [
    "## Fill null data with avarage \n",
    "\n"
   ]
  },
  {
   "cell_type": "code",
   "execution_count": null,
   "id": "97d0532a",
   "metadata": {},
   "outputs": [],
   "source": [
    "height = file[\"height\"].mean() \n",
    "file[\"height\"].fillna(value = height , inplace = True)            # if its numerical data "
   ]
  },
  {
   "cell_type": "markdown",
   "id": "3dc2b4e8",
   "metadata": {},
   "source": [
    "## Fill Null with interpolate"
   ]
  },
  {
   "cell_type": "code",
   "execution_count": null,
   "id": "5cce8025",
   "metadata": {},
   "outputs": [],
   "source": [
    "file = file.interpolate(method = \"linear\")                             # if its numerical data "
   ]
  },
  {
   "cell_type": "markdown",
   "id": "9e9a5b13",
   "metadata": {},
   "source": [
    "## Drop any non logical data \n"
   ]
  },
  {
   "cell_type": "code",
   "execution_count": null,
   "id": "4e0d02bc",
   "metadata": {},
   "outputs": [],
   "source": [
    "file = file [file[\"weight\"] > 30 & file[\"weight\"] < 400 ]\n"
   ]
  },
  {
   "cell_type": "markdown",
   "id": "5eed3e59",
   "metadata": {},
   "source": [
    "## Take only data with condition \n",
    "\n"
   ]
  },
  {
   "cell_type": "code",
   "execution_count": null,
   "id": "0454a8a8",
   "metadata": {},
   "outputs": [],
   "source": [
    "file[file[\"col name\"]==\"condition\" , inplace = True]"
   ]
  },
  {
   "cell_type": "markdown",
   "id": "1f21f815",
   "metadata": {},
   "source": [
    "## Drop col\n",
    "\n"
   ]
  },
  {
   "cell_type": "code",
   "execution_count": null,
   "id": "c56d40b9",
   "metadata": {},
   "outputs": [],
   "source": [
    "file.drop([\"col name 1\" , \"col name 2\"] , axis=1 , inplace = True)"
   ]
  },
  {
   "cell_type": "markdown",
   "id": "a15eee89",
   "metadata": {},
   "source": [
    "## Groupby\n",
    "\n"
   ]
  },
  {
   "cell_type": "code",
   "execution_count": null,
   "id": "f9c0519a",
   "metadata": {},
   "outputs": [],
   "source": [
    "file.groupby(\"col name to be grouped\")[\"another col\"].value_counts().unstack()"
   ]
  },
  {
   "cell_type": "markdown",
   "id": "5fb9f394",
   "metadata": {},
   "source": [
    "## Visualization of grouped data"
   ]
  },
  {
   "cell_type": "code",
   "execution_count": null,
   "id": "91bd34b3",
   "metadata": {},
   "outputs": [],
   "source": [
    "file.groupby(\"col name to be grouped\")[\"another col\"].value_counts().unstack().plot(kind=\"bar\")"
   ]
  },
  {
   "cell_type": "markdown",
   "id": "d0b1b444",
   "metadata": {},
   "source": [
    "## Take col with condition, string starts with letter/s\n"
   ]
  },
  {
   "cell_type": "code",
   "execution_count": null,
   "id": "ec046ddf",
   "metadata": {},
   "outputs": [],
   "source": [
    "file2 = file[file[\"col name\"].str.startswith(\"condition a-b-c-....\")]\n"
   ]
  },
  {
   "cell_type": "markdown",
   "id": "2f479152",
   "metadata": {},
   "source": [
    "## Create function  \" def any_thing(variable) \" to use it in any coloumn u need\n"
   ]
  },
  {
   "cell_type": "code",
   "execution_count": null,
   "id": "3f4812dd",
   "metadata": {},
   "outputs": [],
   "source": [
    "file[\"location\"].apply(any_thing\" function_name\" )"
   ]
  },
  {
   "cell_type": "markdown",
   "id": "5531bad5",
   "metadata": {},
   "source": [
    "## Change data type to datetime\n"
   ]
  },
  {
   "cell_type": "code",
   "execution_count": null,
   "id": "31f96807",
   "metadata": {},
   "outputs": [],
   "source": [
    "file[\"col\"] = pd.to_datetime(file[\"col\"])"
   ]
  },
  {
   "cell_type": "markdown",
   "id": "62477d20",
   "metadata": {},
   "source": [
    "## Devide to year, month  and day\n"
   ]
  },
  {
   "cell_type": "code",
   "execution_count": null,
   "id": "7af5dad6",
   "metadata": {},
   "outputs": [],
   "source": [
    "file[\"year\"] = file[\"col\"].dt.year\n",
    "file[\"month\"] = file[\"col\"].dt.month\n",
    "file[\"month_name\"] = file[\"col\"].dt.month_name\n",
    "file[\"day\"] = file[\"col\"].dt.day_name\n",
    "file[\"hour\"] = file[\"col\"].dt.hour\n",
    "file[\"minute\"] = file[\"col\"].dt.minute"
   ]
  },
  {
   "cell_type": "markdown",
   "id": "c5147c03",
   "metadata": {},
   "source": [
    "## Numerical data to Categorical\n",
    "\n"
   ]
  },
  {
   "cell_type": "code",
   "execution_count": null,
   "id": "0a55cb90",
   "metadata": {},
   "outputs": [],
   "source": [
    "file['bmi_class'] = pd.cut(x=file['bmi'], bins=[0,18.5,24.9,29.9,45],labels=['Under_weight', 'Healthy', 'Over_weight','Obese'])\n",
    "\n",
    "# New coloumn \"bmi_class\"                        # ( 0 to 18.5 ) in Under_weight\n",
    "                                                                   # ( 18.5 to 24.9 ) in Healthy\n",
    "                                                                   # ( 24.9 to 29.9 ) in Over_weight\n",
    "                                                                   # ( 29.9 to 45 ) in Obese"
   ]
  },
  {
   "cell_type": "markdown",
   "id": "183f44dc",
   "metadata": {},
   "source": [
    "## Edit display format"
   ]
  },
  {
   "cell_type": "code",
   "execution_count": null,
   "id": "fd9509c6",
   "metadata": {},
   "outputs": [],
   "source": [
    "plt.figure(figsize=(10,5))\n",
    "plt.subplot(1,4,1)\n",
    "plt.xticks(rotation=45)"
   ]
  },
  {
   "cell_type": "markdown",
   "id": "62ccbab9",
   "metadata": {},
   "source": [
    "## Title and Lables names \n",
    "\n"
   ]
  },
  {
   "cell_type": "code",
   "execution_count": null,
   "id": "a354b6f8",
   "metadata": {},
   "outputs": [],
   "source": [
    "plt.title(\"note in head\")\n",
    "plt.xlabel(\"note in x-lable\")\n",
    "plt.ylabel(\"note in y-lable\")\n"
   ]
  },
  {
   "cell_type": "markdown",
   "id": "7d3fc414",
   "metadata": {},
   "source": [
    "## matplotlib.pyplot\n"
   ]
  },
  {
   "cell_type": "code",
   "execution_count": null,
   "id": "46996fce",
   "metadata": {},
   "outputs": [],
   "source": [
    "plt.plot(x= , y= , data = )\n",
    "plt.bar(x= , hue= , data = )\n",
    "plt.hist(x= , hue= , data = , bins = )\n",
    "plt.scatter(x= , y= , data =)\n"
   ]
  },
  {
   "cell_type": "markdown",
   "id": "98a84c72",
   "metadata": {},
   "source": [
    "## Many graphes in one in matplotlib\n"
   ]
  },
  {
   "cell_type": "code",
   "execution_count": null,
   "id": "0b6126a9",
   "metadata": {},
   "outputs": [],
   "source": [
    "plt.legend()"
   ]
  },
  {
   "cell_type": "markdown",
   "id": "c0394e3d",
   "metadata": {},
   "source": [
    "## Seaborn\n",
    "\n"
   ]
  },
  {
   "cell_type": "code",
   "execution_count": null,
   "id": "151003fb",
   "metadata": {},
   "outputs": [],
   "source": [
    "sns.boxplot(x= , y= , data = )\n",
    "sns.heatmap(data , cmp=\"color\")\n",
    "sns.violinplot(x= , y= , data=)\n",
    "sns.countplot(x= , hue= , data = )"
   ]
  }
 ],
 "metadata": {
  "kernelspec": {
   "display_name": "Python 3 (ipykernel)",
   "language": "python",
   "name": "python3"
  },
  "language_info": {
   "codemirror_mode": {
    "name": "ipython",
    "version": 3
   },
   "file_extension": ".py",
   "mimetype": "text/x-python",
   "name": "python",
   "nbconvert_exporter": "python",
   "pygments_lexer": "ipython3",
   "version": "3.9.12"
  }
 },
 "nbformat": 4,
 "nbformat_minor": 5
}
