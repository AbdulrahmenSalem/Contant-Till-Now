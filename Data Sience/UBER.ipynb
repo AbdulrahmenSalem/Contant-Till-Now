{
 "cells": [
  {
   "cell_type": "markdown",
   "id": "a7d9c7a1",
   "metadata": {},
   "source": [
    "## Importing Libraries \n"
   ]
  },
  {
   "cell_type": "code",
   "execution_count": 44,
   "id": "1205bbce",
   "metadata": {},
   "outputs": [],
   "source": [
    "import pandas as pd\n",
    "import numpy as np\n",
    "import matplotlib.pyplot as plt\n",
    "import seaborn as sns\n",
    "%matplotlib inline"
   ]
  },
  {
   "cell_type": "markdown",
   "id": "0cb4c181",
   "metadata": {},
   "source": [
    "## File visualitation and Data Cleaning"
   ]
  },
  {
   "cell_type": "code",
   "execution_count": 45,
   "id": "8d373f99",
   "metadata": {},
   "outputs": [
    {
     "data": {
      "text/html": [
       "<div>\n",
       "<style scoped>\n",
       "    .dataframe tbody tr th:only-of-type {\n",
       "        vertical-align: middle;\n",
       "    }\n",
       "\n",
       "    .dataframe tbody tr th {\n",
       "        vertical-align: top;\n",
       "    }\n",
       "\n",
       "    .dataframe thead th {\n",
       "        text-align: right;\n",
       "    }\n",
       "</style>\n",
       "<table border=\"1\" class=\"dataframe\">\n",
       "  <thead>\n",
       "    <tr style=\"text-align: right;\">\n",
       "      <th></th>\n",
       "      <th>Request id</th>\n",
       "      <th>Pickup point</th>\n",
       "      <th>Driver id</th>\n",
       "      <th>Status</th>\n",
       "      <th>Request timestamp</th>\n",
       "      <th>Drop timestamp</th>\n",
       "    </tr>\n",
       "  </thead>\n",
       "  <tbody>\n",
       "    <tr>\n",
       "      <th>0</th>\n",
       "      <td>619</td>\n",
       "      <td>Airport</td>\n",
       "      <td>1.0</td>\n",
       "      <td>Trip Completed</td>\n",
       "      <td>11/7/2016 11:51</td>\n",
       "      <td>11/7/2016 13:00</td>\n",
       "    </tr>\n",
       "    <tr>\n",
       "      <th>1</th>\n",
       "      <td>867</td>\n",
       "      <td>Airport</td>\n",
       "      <td>1.0</td>\n",
       "      <td>Trip Completed</td>\n",
       "      <td>11/7/2016 17:57</td>\n",
       "      <td>11/7/2016 18:47</td>\n",
       "    </tr>\n",
       "    <tr>\n",
       "      <th>2</th>\n",
       "      <td>1807</td>\n",
       "      <td>City</td>\n",
       "      <td>1.0</td>\n",
       "      <td>Trip Completed</td>\n",
       "      <td>12/7/2016 9:17</td>\n",
       "      <td>12/7/2016 9:58</td>\n",
       "    </tr>\n",
       "    <tr>\n",
       "      <th>3</th>\n",
       "      <td>2532</td>\n",
       "      <td>Airport</td>\n",
       "      <td>1.0</td>\n",
       "      <td>Trip Completed</td>\n",
       "      <td>12/7/2016 21:08</td>\n",
       "      <td>12/7/2016 22:03</td>\n",
       "    </tr>\n",
       "    <tr>\n",
       "      <th>4</th>\n",
       "      <td>3112</td>\n",
       "      <td>City</td>\n",
       "      <td>1.0</td>\n",
       "      <td>Trip Completed</td>\n",
       "      <td>13-07-2016 08:33:16</td>\n",
       "      <td>13-07-2016 09:25:47</td>\n",
       "    </tr>\n",
       "  </tbody>\n",
       "</table>\n",
       "</div>"
      ],
      "text/plain": [
       "   Request id Pickup point  Driver id          Status    Request timestamp  \\\n",
       "0         619      Airport        1.0  Trip Completed      11/7/2016 11:51   \n",
       "1         867      Airport        1.0  Trip Completed      11/7/2016 17:57   \n",
       "2        1807         City        1.0  Trip Completed       12/7/2016 9:17   \n",
       "3        2532      Airport        1.0  Trip Completed      12/7/2016 21:08   \n",
       "4        3112         City        1.0  Trip Completed  13-07-2016 08:33:16   \n",
       "\n",
       "        Drop timestamp  \n",
       "0      11/7/2016 13:00  \n",
       "1      11/7/2016 18:47  \n",
       "2       12/7/2016 9:58  \n",
       "3      12/7/2016 22:03  \n",
       "4  13-07-2016 09:25:47  "
      ]
     },
     "execution_count": 45,
     "metadata": {},
     "output_type": "execute_result"
    }
   ],
   "source": [
    "data = pd.read_csv(\"Uber Request Data.csv\")\n",
    "data.head()"
   ]
  },
  {
   "cell_type": "code",
   "execution_count": 46,
   "id": "2712a0c5",
   "metadata": {},
   "outputs": [
    {
     "name": "stdout",
     "output_type": "stream",
     "text": [
      "<class 'pandas.core.frame.DataFrame'>\n",
      "RangeIndex: 6745 entries, 0 to 6744\n",
      "Data columns (total 6 columns):\n",
      " #   Column             Non-Null Count  Dtype  \n",
      "---  ------             --------------  -----  \n",
      " 0   Request id         6745 non-null   int64  \n",
      " 1   Pickup point       6745 non-null   object \n",
      " 2   Driver id          4095 non-null   float64\n",
      " 3   Status             6745 non-null   object \n",
      " 4   Request timestamp  6745 non-null   object \n",
      " 5   Drop timestamp     2831 non-null   object \n",
      "dtypes: float64(1), int64(1), object(4)\n",
      "memory usage: 316.3+ KB\n",
      "None \n",
      "\n",
      "        Request id    Driver id\n",
      "count  6745.000000  4095.000000\n",
      "mean   3384.644922   149.501343\n",
      "std    1955.099667    86.051994\n",
      "min       1.000000     1.000000\n",
      "25%    1691.000000    75.000000\n",
      "50%    3387.000000   149.000000\n",
      "75%    5080.000000   224.000000\n",
      "max    6766.000000   300.000000 \n",
      "\n",
      "Request id              0\n",
      "Pickup point            0\n",
      "Driver id            2650\n",
      "Status                  0\n",
      "Request timestamp       0\n",
      "Drop timestamp       3914\n",
      "dtype: int64 \n",
      "\n",
      "0 \n",
      "\n"
     ]
    }
   ],
   "source": [
    "print(data.info(), \"\\n\")\n",
    "print(data.describe(), \"\\n\")\n",
    "print(data.isnull().sum(), \"\\n\")\n",
    "print(data.duplicated().sum(), \"\\n\")"
   ]
  },
  {
   "cell_type": "markdown",
   "id": "c5b20f7c",
   "metadata": {},
   "source": [
    "## Cleaning Data\n",
    "\n"
   ]
  },
  {
   "cell_type": "code",
   "execution_count": 47,
   "id": "d8373205",
   "metadata": {},
   "outputs": [],
   "source": [
    "data.drop(\"Driver id\" , axis = 1 , inplace = True )                 # Driver id is not important and its contain 2650 null data\n",
    "data.drop(\"Request id\" , axis = 1 , inplace = True )                # Request id is not important too\n"
   ]
  },
  {
   "cell_type": "code",
   "execution_count": 48,
   "id": "cdb2ae96",
   "metadata": {},
   "outputs": [],
   "source": [
    "data[\"Status\"].nunique()                                   # null data in Drop timestamp due to Uncompleted Trips \n",
    "data[\"Drop timestamp\"].fillna(value = \"No Ride\" , inplace = True)\n",
    "# here we fill null data in Drop timestamp with no ride\n"
   ]
  },
  {
   "cell_type": "code",
   "execution_count": 157,
   "id": "d159f427",
   "metadata": {},
   "outputs": [
    {
     "name": "stdout",
     "output_type": "stream",
     "text": [
      "<class 'pandas.core.frame.DataFrame'>\n",
      "RangeIndex: 6745 entries, 0 to 6744\n",
      "Data columns (total 4 columns):\n",
      " #   Column             Non-Null Count  Dtype \n",
      "---  ------             --------------  ----- \n",
      " 0   Pickup point       6745 non-null   object\n",
      " 1   Status             6745 non-null   object\n",
      " 2   Request timestamp  6745 non-null   object\n",
      " 3   Drop timestamp     6745 non-null   object\n",
      "dtypes: object(4)\n",
      "memory usage: 210.9+ KB\n"
     ]
    },
    {
     "data": {
      "text/plain": [
       "Pickup point         0\n",
       "Status               0\n",
       "Request timestamp    0\n",
       "Drop timestamp       0\n",
       "dtype: int64"
      ]
     },
     "execution_count": 157,
     "metadata": {},
     "output_type": "execute_result"
    }
   ],
   "source": [
    "data.info()\n",
    "data.isnull().sum()\n",
    "#Clean data "
   ]
  },
  {
   "cell_type": "code",
   "execution_count": 158,
   "id": "63fa07e4",
   "metadata": {},
   "outputs": [
    {
     "data": {
      "text/html": [
       "<div>\n",
       "<style scoped>\n",
       "    .dataframe tbody tr th:only-of-type {\n",
       "        vertical-align: middle;\n",
       "    }\n",
       "\n",
       "    .dataframe tbody tr th {\n",
       "        vertical-align: top;\n",
       "    }\n",
       "\n",
       "    .dataframe thead th {\n",
       "        text-align: right;\n",
       "    }\n",
       "</style>\n",
       "<table border=\"1\" class=\"dataframe\">\n",
       "  <thead>\n",
       "    <tr style=\"text-align: right;\">\n",
       "      <th></th>\n",
       "      <th>Pickup point</th>\n",
       "      <th>Status</th>\n",
       "      <th>Request timestamp</th>\n",
       "      <th>Drop timestamp</th>\n",
       "    </tr>\n",
       "  </thead>\n",
       "  <tbody>\n",
       "    <tr>\n",
       "      <th>0</th>\n",
       "      <td>Airport</td>\n",
       "      <td>Trip Completed</td>\n",
       "      <td>11/7/2016 11:51</td>\n",
       "      <td>11/7/2016 13:00</td>\n",
       "    </tr>\n",
       "    <tr>\n",
       "      <th>1</th>\n",
       "      <td>Airport</td>\n",
       "      <td>Trip Completed</td>\n",
       "      <td>11/7/2016 17:57</td>\n",
       "      <td>11/7/2016 18:47</td>\n",
       "    </tr>\n",
       "    <tr>\n",
       "      <th>2</th>\n",
       "      <td>City</td>\n",
       "      <td>Trip Completed</td>\n",
       "      <td>12/7/2016 9:17</td>\n",
       "      <td>12/7/2016 9:58</td>\n",
       "    </tr>\n",
       "    <tr>\n",
       "      <th>3</th>\n",
       "      <td>Airport</td>\n",
       "      <td>Trip Completed</td>\n",
       "      <td>12/7/2016 21:08</td>\n",
       "      <td>12/7/2016 22:03</td>\n",
       "    </tr>\n",
       "    <tr>\n",
       "      <th>4</th>\n",
       "      <td>City</td>\n",
       "      <td>Trip Completed</td>\n",
       "      <td>13-07-2016 08:33:16</td>\n",
       "      <td>13-07-2016 09:25:47</td>\n",
       "    </tr>\n",
       "  </tbody>\n",
       "</table>\n",
       "</div>"
      ],
      "text/plain": [
       "  Pickup point          Status    Request timestamp       Drop timestamp\n",
       "0      Airport  Trip Completed      11/7/2016 11:51      11/7/2016 13:00\n",
       "1      Airport  Trip Completed      11/7/2016 17:57      11/7/2016 18:47\n",
       "2         City  Trip Completed       12/7/2016 9:17       12/7/2016 9:58\n",
       "3      Airport  Trip Completed      12/7/2016 21:08      12/7/2016 22:03\n",
       "4         City  Trip Completed  13-07-2016 08:33:16  13-07-2016 09:25:47"
      ]
     },
     "execution_count": 158,
     "metadata": {},
     "output_type": "execute_result"
    }
   ],
   "source": [
    "data.head()"
   ]
  },
  {
   "cell_type": "markdown",
   "id": "532d358c",
   "metadata": {},
   "source": [
    "## Converte timestamp (Request & drop) to data time\n"
   ]
  },
  {
   "cell_type": "code",
   "execution_count": 159,
   "id": "22267eaa",
   "metadata": {},
   "outputs": [
    {
     "name": "stderr",
     "output_type": "stream",
     "text": [
      "C:\\Users\\abdos\\AppData\\Local\\Temp\\ipykernel_11064\\3510638461.py:2: SettingWithCopyWarning: \n",
      "A value is trying to be set on a copy of a slice from a DataFrame.\n",
      "Try using .loc[row_indexer,col_indexer] = value instead\n",
      "\n",
      "See the caveats in the documentation: https://pandas.pydata.org/pandas-docs/stable/user_guide/indexing.html#returning-a-view-versus-a-copy\n",
      "  data_completed[\"Request timestamp\"]=pd.to_datetime(data_completed[\"Request timestamp\"])\n",
      "C:\\Users\\abdos\\AppData\\Local\\Temp\\ipykernel_11064\\3510638461.py:3: SettingWithCopyWarning: \n",
      "A value is trying to be set on a copy of a slice from a DataFrame.\n",
      "Try using .loc[row_indexer,col_indexer] = value instead\n",
      "\n",
      "See the caveats in the documentation: https://pandas.pydata.org/pandas-docs/stable/user_guide/indexing.html#returning-a-view-versus-a-copy\n",
      "  data_completed[\"Drop timestamp\"]=pd.to_datetime(data_completed[\"Drop timestamp\"])\n"
     ]
    },
    {
     "data": {
      "text/html": [
       "<div>\n",
       "<style scoped>\n",
       "    .dataframe tbody tr th:only-of-type {\n",
       "        vertical-align: middle;\n",
       "    }\n",
       "\n",
       "    .dataframe tbody tr th {\n",
       "        vertical-align: top;\n",
       "    }\n",
       "\n",
       "    .dataframe thead th {\n",
       "        text-align: right;\n",
       "    }\n",
       "</style>\n",
       "<table border=\"1\" class=\"dataframe\">\n",
       "  <thead>\n",
       "    <tr style=\"text-align: right;\">\n",
       "      <th></th>\n",
       "      <th>Pickup point</th>\n",
       "      <th>Status</th>\n",
       "      <th>Request timestamp</th>\n",
       "      <th>Drop timestamp</th>\n",
       "    </tr>\n",
       "  </thead>\n",
       "  <tbody>\n",
       "    <tr>\n",
       "      <th>0</th>\n",
       "      <td>Airport</td>\n",
       "      <td>Trip Completed</td>\n",
       "      <td>2016-11-07 11:51:00</td>\n",
       "      <td>2016-11-07 13:00:00</td>\n",
       "    </tr>\n",
       "    <tr>\n",
       "      <th>1</th>\n",
       "      <td>Airport</td>\n",
       "      <td>Trip Completed</td>\n",
       "      <td>2016-11-07 17:57:00</td>\n",
       "      <td>2016-11-07 18:47:00</td>\n",
       "    </tr>\n",
       "    <tr>\n",
       "      <th>2</th>\n",
       "      <td>City</td>\n",
       "      <td>Trip Completed</td>\n",
       "      <td>2016-12-07 09:17:00</td>\n",
       "      <td>2016-12-07 09:58:00</td>\n",
       "    </tr>\n",
       "    <tr>\n",
       "      <th>3</th>\n",
       "      <td>Airport</td>\n",
       "      <td>Trip Completed</td>\n",
       "      <td>2016-12-07 21:08:00</td>\n",
       "      <td>2016-12-07 22:03:00</td>\n",
       "    </tr>\n",
       "    <tr>\n",
       "      <th>4</th>\n",
       "      <td>City</td>\n",
       "      <td>Trip Completed</td>\n",
       "      <td>2016-07-13 08:33:16</td>\n",
       "      <td>2016-07-13 09:25:47</td>\n",
       "    </tr>\n",
       "  </tbody>\n",
       "</table>\n",
       "</div>"
      ],
      "text/plain": [
       "  Pickup point          Status   Request timestamp      Drop timestamp\n",
       "0      Airport  Trip Completed 2016-11-07 11:51:00 2016-11-07 13:00:00\n",
       "1      Airport  Trip Completed 2016-11-07 17:57:00 2016-11-07 18:47:00\n",
       "2         City  Trip Completed 2016-12-07 09:17:00 2016-12-07 09:58:00\n",
       "3      Airport  Trip Completed 2016-12-07 21:08:00 2016-12-07 22:03:00\n",
       "4         City  Trip Completed 2016-07-13 08:33:16 2016-07-13 09:25:47"
      ]
     },
     "execution_count": 159,
     "metadata": {},
     "output_type": "execute_result"
    }
   ],
   "source": [
    "data_completed = data[data[\"Status\"]==\"Trip Completed\"]                  #taking only complete trips in new data-frame\n",
    "data_completed[\"Request timestamp\"]=pd.to_datetime(data_completed[\"Request timestamp\"])\n",
    "data_completed[\"Drop timestamp\"]=pd.to_datetime(data_completed[\"Drop timestamp\"])\n",
    "data_completed.head()\n"
   ]
  },
  {
   "cell_type": "code",
   "execution_count": 160,
   "id": "34b2e79b",
   "metadata": {},
   "outputs": [
    {
     "name": "stdout",
     "output_type": "stream",
     "text": [
      "<class 'pandas.core.frame.DataFrame'>\n",
      "Int64Index: 2831 entries, 0 to 2830\n",
      "Data columns (total 4 columns):\n",
      " #   Column             Non-Null Count  Dtype         \n",
      "---  ------             --------------  -----         \n",
      " 0   Pickup point       2831 non-null   object        \n",
      " 1   Status             2831 non-null   object        \n",
      " 2   Request timestamp  2831 non-null   datetime64[ns]\n",
      " 3   Drop timestamp     2831 non-null   datetime64[ns]\n",
      "dtypes: datetime64[ns](2), object(2)\n",
      "memory usage: 110.6+ KB\n"
     ]
    }
   ],
   "source": [
    "data_completed.info()\n"
   ]
  },
  {
   "cell_type": "code",
   "execution_count": 180,
   "id": "688a160f",
   "metadata": {},
   "outputs": [
    {
     "data": {
      "text/html": [
       "<div>\n",
       "<style scoped>\n",
       "    .dataframe tbody tr th:only-of-type {\n",
       "        vertical-align: middle;\n",
       "    }\n",
       "\n",
       "    .dataframe tbody tr th {\n",
       "        vertical-align: top;\n",
       "    }\n",
       "\n",
       "    .dataframe thead th {\n",
       "        text-align: right;\n",
       "    }\n",
       "</style>\n",
       "<table border=\"1\" class=\"dataframe\">\n",
       "  <thead>\n",
       "    <tr style=\"text-align: right;\">\n",
       "      <th></th>\n",
       "      <th>Pickup point</th>\n",
       "      <th>Status</th>\n",
       "      <th>Request timestamp</th>\n",
       "      <th>Drop timestamp</th>\n",
       "      <th>Req month_name</th>\n",
       "      <th>Req day_name</th>\n",
       "      <th>Ride Time</th>\n",
       "      <th>Req hour</th>\n",
       "    </tr>\n",
       "  </thead>\n",
       "  <tbody>\n",
       "    <tr>\n",
       "      <th>0</th>\n",
       "      <td>Airport</td>\n",
       "      <td>Trip Completed</td>\n",
       "      <td>2016-11-07 11:51:00</td>\n",
       "      <td>2016-11-07 13:00:00</td>\n",
       "      <td>November</td>\n",
       "      <td>Monday</td>\n",
       "      <td>0 days 01:09:00</td>\n",
       "      <td>11</td>\n",
       "    </tr>\n",
       "    <tr>\n",
       "      <th>1</th>\n",
       "      <td>Airport</td>\n",
       "      <td>Trip Completed</td>\n",
       "      <td>2016-11-07 17:57:00</td>\n",
       "      <td>2016-11-07 18:47:00</td>\n",
       "      <td>November</td>\n",
       "      <td>Monday</td>\n",
       "      <td>0 days 00:50:00</td>\n",
       "      <td>17</td>\n",
       "    </tr>\n",
       "    <tr>\n",
       "      <th>2</th>\n",
       "      <td>City</td>\n",
       "      <td>Trip Completed</td>\n",
       "      <td>2016-12-07 09:17:00</td>\n",
       "      <td>2016-12-07 09:58:00</td>\n",
       "      <td>December</td>\n",
       "      <td>Wednesday</td>\n",
       "      <td>0 days 00:41:00</td>\n",
       "      <td>9</td>\n",
       "    </tr>\n",
       "    <tr>\n",
       "      <th>3</th>\n",
       "      <td>Airport</td>\n",
       "      <td>Trip Completed</td>\n",
       "      <td>2016-12-07 21:08:00</td>\n",
       "      <td>2016-12-07 22:03:00</td>\n",
       "      <td>December</td>\n",
       "      <td>Wednesday</td>\n",
       "      <td>0 days 00:55:00</td>\n",
       "      <td>21</td>\n",
       "    </tr>\n",
       "    <tr>\n",
       "      <th>4</th>\n",
       "      <td>City</td>\n",
       "      <td>Trip Completed</td>\n",
       "      <td>2016-07-13 08:33:16</td>\n",
       "      <td>2016-07-13 09:25:47</td>\n",
       "      <td>July</td>\n",
       "      <td>Wednesday</td>\n",
       "      <td>0 days 00:52:31</td>\n",
       "      <td>8</td>\n",
       "    </tr>\n",
       "  </tbody>\n",
       "</table>\n",
       "</div>"
      ],
      "text/plain": [
       "  Pickup point          Status   Request timestamp      Drop timestamp  \\\n",
       "0      Airport  Trip Completed 2016-11-07 11:51:00 2016-11-07 13:00:00   \n",
       "1      Airport  Trip Completed 2016-11-07 17:57:00 2016-11-07 18:47:00   \n",
       "2         City  Trip Completed 2016-12-07 09:17:00 2016-12-07 09:58:00   \n",
       "3      Airport  Trip Completed 2016-12-07 21:08:00 2016-12-07 22:03:00   \n",
       "4         City  Trip Completed 2016-07-13 08:33:16 2016-07-13 09:25:47   \n",
       "\n",
       "  Req month_name Req day_name       Ride Time  Req hour  \n",
       "0       November       Monday 0 days 01:09:00        11  \n",
       "1       November       Monday 0 days 00:50:00        17  \n",
       "2       December    Wednesday 0 days 00:41:00         9  \n",
       "3       December    Wednesday 0 days 00:55:00        21  \n",
       "4           July    Wednesday 0 days 00:52:31         8  "
      ]
     },
     "execution_count": 180,
     "metadata": {},
     "output_type": "execute_result"
    }
   ],
   "source": [
    "data_completed[\"Req month_name\"]=data_completed[\"Request timestamp\"].dt.month_name()\n",
    "data_completed[\"Req day_name\"]=data_completed[\"Request timestamp\"].dt.day_name()\n",
    "data_completed[\"Req hour\"]=data_completed[\"Request timestamp\"].dt.hour\n",
    "data_completed[\"Ride Time\"]=data_completed['Drop timestamp']-data_completed['Request timestamp']     #Calculating Trip Time\n",
    "data_completed.head()\n",
    "\n"
   ]
  },
  {
   "cell_type": "markdown",
   "id": "8f711f52",
   "metadata": {},
   "source": [
    "## Average Ride Time ?"
   ]
  },
  {
   "cell_type": "code",
   "execution_count": 162,
   "id": "87973933",
   "metadata": {},
   "outputs": [
    {
     "data": {
      "text/plain": [
       "1789   -148 days +00:33:55\n",
       "656    -148 days +00:35:12\n",
       "1416   -148 days +00:37:24\n",
       "2179   -148 days +00:41:45\n",
       "1997   -148 days +00:42:19\n",
       "1526   -148 days +00:45:21\n",
       "2439   -148 days +00:50:32\n",
       "133    -148 days +00:52:12\n",
       "143    -148 days +01:04:21\n",
       "245    -148 days +01:05:52\n",
       "532    -148 days +01:07:17\n",
       "2120   -148 days +01:16:37\n",
       "2792   -148 days +01:17:33\n",
       "Name: Ride Time, dtype: timedelta64[ns]"
      ]
     },
     "execution_count": 162,
     "metadata": {},
     "output_type": "execute_result"
    }
   ],
   "source": [
    "data_completed['Ride Time'].nsmallest(n=13)                  # non logical data( -148 days ) , its better to drop it \n"
   ]
  },
  {
   "cell_type": "code",
   "execution_count": 163,
   "id": "dee12770",
   "metadata": {},
   "outputs": [
    {
     "data": {
      "text/plain": [
       "2274   0 days 00:20:47\n",
       "342    0 days 00:21:00\n",
       "1726   0 days 00:21:00\n",
       "2313   0 days 00:21:11\n",
       "1363   0 days 00:21:15\n",
       "449    0 days 00:22:00\n",
       "1384   0 days 00:23:00\n",
       "1604   0 days 00:23:00\n",
       "2360   0 days 00:23:00\n",
       "272    0 days 00:23:42\n",
       "2448   0 days 00:23:57\n",
       "1747   0 days 00:24:00\n",
       "1754   0 days 00:24:18\n",
       "Name: Ride Time, dtype: timedelta64[ns]"
      ]
     },
     "execution_count": 163,
     "metadata": {},
     "output_type": "execute_result"
    }
   ],
   "source": [
    "data_completed = data_completed [data_completed[\"Ride Time\"] > '0 days 00:00:00']\n",
    "data_completed['Ride Time'].nsmallest(n=13)   \n"
   ]
  },
  {
   "cell_type": "code",
   "execution_count": 164,
   "id": "9e2821b4",
   "metadata": {},
   "outputs": [
    {
     "data": {
      "text/plain": [
       "Timedelta('0 days 05:33:58.317955997')"
      ]
     },
     "execution_count": 164,
     "metadata": {},
     "output_type": "execute_result"
    }
   ],
   "source": [
    "data_completed['Ride Time'].mean()"
   ]
  },
  {
   "cell_type": "markdown",
   "id": "3d7a9373",
   "metadata": {},
   "source": [
    "## Largest date to request and where ?"
   ]
  },
  {
   "cell_type": "code",
   "execution_count": 155,
   "id": "74d96745",
   "metadata": {},
   "outputs": [
    {
     "data": {
      "image/png": "[encoded data removed]",
      "text/plain": [
       "<Figure size 1080x360 with 2 Axes>"
      ]
     },
     "metadata": {
      "needs_background": "light"
     },
     "output_type": "display_data"
    }
   ],
   "source": [
    "plt.figure(figsize=(15,5))\n",
    "plt.subplot(1,2,1)\n",
    "data_completed.groupby(\"Req month_name\")[\"Pickup point\"].value_counts().plot(kind=\"bar\")\n",
    "plt.subplot(1,2,2)\n",
    "data_completed.groupby(\"Req day_name\")[\"Pickup point\"].value_counts().plot(kind=\"bar\");\n"
   ]
  },
  {
   "cell_type": "code",
   "execution_count": 188,
   "id": "9316975b",
   "metadata": {},
   "outputs": [
    {
     "data": {
      "image/png": "[encoded data removed]",
      "text/plain": [
       "<Figure size 1440x360 with 1 Axes>"
      ]
     },
     "metadata": {
      "needs_background": "light"
     },
     "output_type": "display_data"
    }
   ],
   "source": [
    "plt.figure(figsize=(20,5))\n",
    "data_completed.groupby(\"Req hour\")[\"Pickup point\"].value_counts().plot(kind=\"bar\")\n",
    "plt.xticks(rotation=45);\n"
   ]
  },
  {
   "cell_type": "markdown",
   "id": "9a74ba2a",
   "metadata": {},
   "source": [
    "## The largest number of no cars and cancelled trips Where ? "
   ]
  },
  {
   "cell_type": "code",
   "execution_count": 151,
   "id": "15a73043",
   "metadata": {},
   "outputs": [
    {
     "data": {
      "image/png": "[encoded data removed]",
      "text/plain": [
       "<Figure size 432x288 with 1 Axes>"
      ]
     },
     "metadata": {
      "needs_background": "light"
     },
     "output_type": "display_data"
    }
   ],
   "source": [
    "data.groupby(\"Status\")[\"Pickup point\"].value_counts().plot(kind=\"bar\");\n",
    "# uber have to cover airport with many cars"
   ]
  }
 ],
 "metadata": {
  "kernelspec": {
   "display_name": "Python 3 (ipykernel)",
   "language": "python",
   "name": "python3"
  },
  "language_info": {
   "codemirror_mode": {
    "name": "ipython",
    "version": 3
   },
   "file_extension": ".py",
   "mimetype": "text/x-python",
   "name": "python",
   "nbconvert_exporter": "python",
   "pygments_lexer": "ipython3",
   "version": "3.9.12"
  }
 },
 "nbformat": 4,
 "nbformat_minor": 5
}
