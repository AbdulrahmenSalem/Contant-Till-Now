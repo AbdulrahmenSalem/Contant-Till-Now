{
 "cells": [
  {
   "cell_type": "code",
   "execution_count": null,
   "id": "484f7a16",
   "metadata": {},
   "outputs": [],
   "source": [
    "class Safe:\n",
    "    def __init__(self,user=[],password=[]):\n",
    "        self.__user=user\n",
    "        self.__password=password\n",
    "        \n",
    "    def set_user(self):\n",
    "        x = input (\"please enter user name : \")\n",
    "        self.__user.append(x)\n",
    "        y = input(\"please enter password : \")\n",
    "        self.__password.append(y)\n",
    "\n",
    "    def get_user(self):\n",
    "        x = input (\"please enter user name : \")\n",
    "        y = input(\"please enter password : \")\n",
    "        if x in self.__user and y in self.__password :\n",
    "            if self.__user.index(x) == self.__password.index(y):\n",
    "                print(\"Hello user :\" , x)\n",
    "            else :\n",
    "                print(\"invalid user name or password \")\n",
    "        else :\n",
    "            print(\"invalid user name or password \")\n",
    "            \n",
    "ask = \"start\"\n",
    "while ask != \"stop\":\n",
    "    operation= input(\"Please enter operation (Register) or (Login) : \")\n",
    "    if operation == \"Register\" or operation == \"register\" :\n",
    "        Safe().set_user()\n",
    "    elif operation == \"Login\" or operation == \"login\" :\n",
    "        Safe().get_user()\n",
    "    else :\n",
    "        print (\"invalid operation \")\n",
    "        \n",
    "    ask = input (\"do u wanna continue or stop ?\")"
   ]
  },
  {
   "cell_type": "raw",
   "id": "85a7876a",
   "metadata": {},
   "source": []
  }
 ],
 "metadata": {
  "kernelspec": {
   "display_name": "Python 3 (ipykernel)",
   "language": "python",
   "name": "python3"
  },
  "language_info": {
   "codemirror_mode": {
    "name": "ipython",
    "version": 3
   },
   "file_extension": ".py",
   "mimetype": "text/x-python",
   "name": "python",
   "nbconvert_exporter": "python",
   "pygments_lexer": "ipython3",
   "version": "3.9.12"
  }
 },
 "nbformat": 4,
 "nbformat_minor": 5
}
