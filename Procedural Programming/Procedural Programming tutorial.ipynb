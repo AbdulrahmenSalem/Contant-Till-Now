{
 "cells": [
  {
   "cell_type": "code",
   "execution_count": null,
   "id": "30ccae6d",
   "metadata": {},
   "outputs": [],
   "source": [
    "#Lists\n",
    "List = [5,4,3,2,1,6,7,8,9,10,\"ahmed\",\"emad\"]          #decliration of list\n",
    "List.append(item)                    #add an element in list \" its added in end of list\"\n",
    "List.insert(pos,item)                 #add an element in list in \"item\" in any position u need \"pos\"\n",
    "List.extend(another_list)          #add another list in end of first list\n",
    "List.remove(item)                     #remove an element of list\n",
    "List.pop(pos)                             #remove an element from list in the position \"pos\"\n",
    "List.clear()                               #clear all list content\n",
    "\n",
    "#Some usfull method in lists\n",
    "len(List)                                   #calculate length of list\n",
    "List[start:end:step]                  #access any element\\s in list by slicing \n",
    "List.index(x)                            #to know the indexed of an element x in the list "
   ]
  },
  {
   "cell_type": "code",
   "execution_count": null,
   "id": "636709f5",
   "metadata": {},
   "outputs": [],
   "source": [
    "#Sets \n",
    "Set = {5,4,3,2,1,6,7,8,9,10,\"Mo\" , \"Salah\"}        #decliration of Set\n",
    "Set.add(item)                    #add an element in list \" its added in end of list\"\n",
    "Set.remove(item)               #remove an element of list\n",
    "Set.Intersection(another Set)               #get the duplicated itemsfromtwosetsand return anewset."
   ]
  },
  {
   "cell_type": "code",
   "execution_count": null,
   "id": "589b6c43",
   "metadata": {},
   "outputs": [],
   "source": [
    "#Dictionaries\n",
    "Dict = {key:value , key:value}             #decliration of Dictionaries\n",
    "Dict.get(key)                                       #to get the values corresponding to the passed key\n",
    "Dict.has_key(key)                               #to return True if this key is in the dictionary.\n",
    "Dict.update(another Dict)                 #to add key-value pairs to an existing dictionary. "
   ]
  },
  {
   "cell_type": "code",
   "execution_count": null,
   "id": "20dd0d21",
   "metadata": {},
   "outputs": [],
   "source": []
  }
 ],
 "metadata": {
  "kernelspec": {
   "display_name": "Python 3 (ipykernel)",
   "language": "python",
   "name": "python3"
  },
  "language_info": {
   "codemirror_mode": {
    "name": "ipython",
    "version": 3
   },
   "file_extension": ".py",
   "mimetype": "text/x-python",
   "name": "python",
   "nbconvert_exporter": "python",
   "pygments_lexer": "ipython3",
   "version": "3.9.12"
  }
 },
 "nbformat": 4,
 "nbformat_minor": 5
}
