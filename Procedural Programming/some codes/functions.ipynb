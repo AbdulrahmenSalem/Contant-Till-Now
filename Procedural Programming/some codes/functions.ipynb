{
 "cells": [
  {
   "cell_type": "code",
   "execution_count": 1,
   "id": "3d462922",
   "metadata": {},
   "outputs": [
    {
     "name": "stdout",
     "output_type": "stream",
     "text": [
      "please enter radious : 3\n",
      "28.259999999999998\n"
     ]
    }
   ],
   "source": [
    "y=int(input(\"please enter radious : \"))\n",
    "def rad(x) : \n",
    "    z=3.14*x*x\n",
    "    return z\n",
    "area = rad(y)\n",
    "print(area)"
   ]
  },
  {
   "cell_type": "code",
   "execution_count": 2,
   "id": "7da88682",
   "metadata": {},
   "outputs": [
    {
     "name": "stdout",
     "output_type": "stream",
     "text": [
      "please enter number : 5\n",
      "120\n",
      "120\n"
     ]
    }
   ],
   "source": [
    "y=int(input(\"please enter number : \"))\n",
    "def fact(x):\n",
    "    if x ==1 :\n",
    "        return 1\n",
    "    else :\n",
    "        return x*fact(x-1)\n",
    "F = fact(y)\n",
    "print (F)\n",
    "z=1\n",
    "for x in range (1,y+1):\n",
    "    z = x * z\n",
    "print(z)"
   ]
  },
  {
   "cell_type": "code",
   "execution_count": 22,
   "id": "8cbc5f4d",
   "metadata": {},
   "outputs": [
    {
     "name": "stdout",
     "output_type": "stream",
     "text": [
      "2\n"
     ]
    }
   ],
   "source": [
    "def fax(x,y,z):\n",
    "    if x > y and x > z :\n",
    "        maxx = x \n",
    "        return maxx\n",
    "    elif y >x and y>z :\n",
    "        maxx = y\n",
    "        return maxx\n",
    "    else :\n",
    "        maxx = z\n",
    "        return maxx \n",
    "l = fax(2,2,2)\n",
    "print(l)"
   ]
  },
  {
   "cell_type": "code",
   "execution_count": 23,
   "id": "2ded92cd",
   "metadata": {},
   "outputs": [
    {
     "name": "stdout",
     "output_type": "stream",
     "text": [
      "please enter valeue 5\n",
      "please enter min range 10\n",
      "please enter max range 2\n",
      "false\n"
     ]
    }
   ],
   "source": [
    "x=int(input(\"please enter valeue \"))\n",
    "y=int(input(\"please enter min range \"))\n",
    "z=int(input(\"please enter max range \"))\n",
    "if x >y and x < z :\n",
    "    print (\"true\")\n",
    "else :\n",
    "    print(\"false\")"
   ]
  },
  {
   "cell_type": "code",
   "execution_count": 24,
   "id": "c2d0fa42",
   "metadata": {},
   "outputs": [
    {
     "name": "stdout",
     "output_type": "stream",
     "text": [
      "{1, 2, 3, 4, 5}\n"
     ]
    }
   ],
   "source": [
    "l = [1,1,1,1,2,2,2,3,2,1,2,4,4,4,4,5,5,5]\n",
    "se = set(l)\n",
    "print(se)"
   ]
  }
 ],
 "metadata": {
  "kernelspec": {
   "display_name": "Python 3 (ipykernel)",
   "language": "python",
   "name": "python3"
  },
  "language_info": {
   "codemirror_mode": {
    "name": "ipython",
    "version": 3
   },
   "file_extension": ".py",
   "mimetype": "text/x-python",
   "name": "python",
   "nbconvert_exporter": "python",
   "pygments_lexer": "ipython3",
   "version": "3.9.12"
  }
 },
 "nbformat": 4,
 "nbformat_minor": 5
}
