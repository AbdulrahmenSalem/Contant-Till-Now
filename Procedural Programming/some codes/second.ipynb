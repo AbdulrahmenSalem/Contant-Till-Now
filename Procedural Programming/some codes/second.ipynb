{
 "cells": [
  {
   "cell_type": "code",
   "execution_count": 4,
   "id": "39a145ce",
   "metadata": {},
   "outputs": [
    {
     "name": "stdout",
     "output_type": "stream",
     "text": [
      "the num 10 is even and the num 9 is odd \n"
     ]
    }
   ],
   "source": [
    "x= 10\n",
    "y = 9\n",
    "\n",
    "\n",
    "print('the num {} is even and the num {} is odd '.format(x,y))\n"
   ]
  },
  {
   "cell_type": "code",
   "execution_count": 9,
   "id": "b0af50dc",
   "metadata": {},
   "outputs": [
    {
     "name": "stdout",
     "output_type": "stream",
     "text": [
      "please enter ur first nammo\n",
      "please enter ur last namesalah\n",
      "user name is mo salah\n"
     ]
    }
   ],
   "source": [
    "first = input (\"please enter ur first nam\")\n",
    "last = input (\"please enter ur last name\")\n",
    "print(\"user name is {} {}\".format(first,last))\n"
   ]
  },
  {
   "cell_type": "code",
   "execution_count": 11,
   "id": "c41e1ef6",
   "metadata": {},
   "outputs": [
    {
     "name": "stdout",
     "output_type": "stream",
     "text": [
      "please enter your name mo salah\n"
     ]
    },
    {
     "data": {
      "text/plain": [
       "8"
      ]
     },
     "execution_count": 11,
     "metadata": {},
     "output_type": "execute_result"
    }
   ],
   "source": [
    "string =  input (\"please enter your name \")\n",
    "len(string)"
   ]
  },
  {
   "cell_type": "code",
   "execution_count": 24,
   "id": "c1263fc4",
   "metadata": {},
   "outputs": [
    {
     "name": "stdout",
     "output_type": "stream",
     "text": [
      "enter ur name abdullah\n",
      "ab a\n"
     ]
    }
   ],
   "source": [
    "x = input(\"enter ur name \")\n",
    "\n",
    "print (x[:2],x[ -2:-1:1])"
   ]
  },
  {
   "cell_type": "code",
   "execution_count": 36,
   "id": "611a5ffa",
   "metadata": {},
   "outputs": [
    {
     "name": "stdout",
     "output_type": "stream",
     "text": [
      "enter stringplay\n",
      "new string is \n",
      "p ing\n"
     ]
    }
   ],
   "source": [
    "x= input (\"enter string\")\n",
    "print(\"new string is \")\n",
    "print(x[:len(x)-3] , \"ing\")"
   ]
  },
  {
   "cell_type": "code",
   "execution_count": 39,
   "id": "19bab355",
   "metadata": {},
   "outputs": [
    {
     "data": {
      "text/plain": [
       "6"
      ]
     },
     "execution_count": 39,
     "metadata": {},
     "output_type": "execute_result"
    }
   ],
   "source": [
    "\n",
    "list=[1,2,3]\n",
    "list[0]+list[1]+list[2]"
   ]
  },
  {
   "cell_type": "code",
   "execution_count": 42,
   "id": "4042e944",
   "metadata": {},
   "outputs": [
    {
     "name": "stdout",
     "output_type": "stream",
     "text": [
      "1\n"
     ]
    },
    {
     "data": {
      "text/plain": [
       "3"
      ]
     },
     "execution_count": 42,
     "metadata": {},
     "output_type": "execute_result"
    }
   ],
   "source": [
    "print(min(list))\n",
    "max(list)"
   ]
  },
  {
   "cell_type": "code",
   "execution_count": 54,
   "id": "7a7fd405",
   "metadata": {},
   "outputs": [
    {
     "data": {
      "text/plain": [
       "[1, 2, 3, 4, 5, 6, 7, 8]"
      ]
     },
     "execution_count": 54,
     "metadata": {},
     "output_type": "execute_result"
    }
   ],
   "source": [
    "l=[0,1,2,3,4,5,6,7,8,9]\n",
    "l.pop(0)\n",
    "l.pop()\n",
    "l"
   ]
  },
  {
   "cell_type": "code",
   "execution_count": 55,
   "id": "6a6c153e",
   "metadata": {},
   "outputs": [
    {
     "data": {
      "text/plain": [
       "[3, 3, 3]"
      ]
     },
     "execution_count": 55,
     "metadata": {},
     "output_type": "execute_result"
    }
   ],
   "source": [
    "l1=[1,2,3]\n",
    "l2=[4,5,6]\n",
    "l3=[l2[0]-l1[0],l2[1]-l1[1],l2[2]-l1[2]]\n",
    "l3"
   ]
  },
  {
   "cell_type": "code",
   "execution_count": 73,
   "id": "9af7c959",
   "metadata": {},
   "outputs": [
    {
     "data": {
      "text/plain": [
       "{1, 2, 3}"
      ]
     },
     "execution_count": 73,
     "metadata": {},
     "output_type": "execute_result"
    }
   ],
   "source": [
    "l=[1,1,1,2,2,2,3,3,3]\n",
    "s=set(l)\n",
    "s\n",
    "\n"
   ]
  },
  {
   "cell_type": "code",
   "execution_count": null,
   "id": "9d7b0471",
   "metadata": {},
   "outputs": [],
   "source": [
    "x=int(input(\"please enter ur percantage \"))\n",
    "if x > 90 :\n",
    "    print (\"ur grade is A\")\n",
    "elif x > 80 or x<= 90 :\n",
    "    print (\"ur grade is B\")\n",
    "elif x >= 60 or x<= 80  :\n",
    "    print (\"ur grade is c\")\n",
    "else  :\n",
    "    print (\"ur grade is d\")\n",
    "\n",
    "\n"
   ]
  },
  {
   "cell_type": "code",
   "execution_count": null,
   "id": "dcb7a0ca",
   "metadata": {},
   "outputs": [],
   "source": [
    "x=int(input(\"please enter number between 1 to 7 \"))\n",
    "if x < 1 or x > 7 :\n",
    "    x=input(\"please enter number between 1 to 7 \")\n",
    "else :\n",
    "    d = {1:\"sunday\",2:\"monday\",3:\"Tuesday\",4:\"Wednesday\",5:\"Thursday\",\n",
    "    6:\"friday\",7:\"Saturday\"}\n",
    "d[x]\n",
    "\n",
    "\n",
    "    "
   ]
  },
  {
   "cell_type": "code",
   "execution_count": 3,
   "id": "22ec8634",
   "metadata": {},
   "outputs": [
    {
     "name": "stdout",
     "output_type": "stream",
     "text": [
      "please enter number 1000\n",
      " not three digit\n"
     ]
    }
   ],
   "source": [
    "y=int(input(\"please enter number \"))\n",
    "if ( y/100 >= 1 ) and ( y /100 <  10) :\n",
    "    print ( \"three digit\")\n",
    "else : \n",
    "    print ( \" not three digit\")\n"
   ]
  }
 ],
 "metadata": {
  "kernelspec": {
   "display_name": "Python 3 (ipykernel)",
   "language": "python",
   "name": "python3"
  },
  "language_info": {
   "codemirror_mode": {
    "name": "ipython",
    "version": 3
   },
   "file_extension": ".py",
   "mimetype": "text/x-python",
   "name": "python",
   "nbconvert_exporter": "python",
   "pygments_lexer": "ipython3",
   "version": "3.9.12"
  }
 },
 "nbformat": 4,
 "nbformat_minor": 5
}
