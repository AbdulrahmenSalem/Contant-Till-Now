{
 "cells": [
  {
   "cell_type": "code",
   "execution_count": 5,
   "id": "8b7c8f92",
   "metadata": {},
   "outputs": [
    {
     "name": "stdout",
     "output_type": "stream",
     "text": [
      "FizzBuzz\n",
      "1\n",
      "2\n",
      "Fizz\n",
      "4\n",
      "Buzz\n",
      "Fizz\n",
      "7\n",
      "8\n",
      "Fizz\n",
      "Buzz\n",
      "11\n",
      "Fizz\n",
      "13\n",
      "14\n",
      "FizzBuzz\n",
      "16\n",
      "17\n",
      "Fizz\n",
      "19\n",
      "Buzz\n",
      "Fizz\n",
      "22\n",
      "23\n",
      "Fizz\n",
      "Buzz\n",
      "26\n",
      "Fizz\n",
      "28\n",
      "29\n",
      "FizzBuzz\n",
      "31\n",
      "32\n",
      "Fizz\n",
      "34\n",
      "Buzz\n",
      "Fizz\n",
      "37\n",
      "38\n",
      "Fizz\n",
      "Buzz\n",
      "41\n",
      "Fizz\n",
      "43\n",
      "44\n",
      "FizzBuzz\n",
      "46\n",
      "47\n",
      "Fizz\n",
      "49\n",
      "Buzz\n",
      "Fizz\n",
      "52\n",
      "53\n",
      "Fizz\n",
      "Buzz\n",
      "56\n",
      "Fizz\n",
      "58\n",
      "59\n",
      "FizzBuzz\n",
      "61\n",
      "62\n",
      "Fizz\n",
      "64\n",
      "Buzz\n",
      "Fizz\n",
      "67\n",
      "68\n",
      "Fizz\n",
      "Buzz\n",
      "71\n",
      "Fizz\n",
      "73\n",
      "74\n",
      "FizzBuzz\n",
      "76\n",
      "77\n",
      "Fizz\n",
      "79\n",
      "Buzz\n",
      "Fizz\n",
      "82\n",
      "83\n",
      "Fizz\n",
      "Buzz\n",
      "86\n",
      "Fizz\n",
      "88\n",
      "89\n",
      "FizzBuzz\n",
      "91\n",
      "92\n",
      "Fizz\n",
      "94\n",
      "Buzz\n",
      "Fizz\n",
      "97\n",
      "98\n",
      "Fizz\n",
      "Buzz\n"
     ]
    }
   ],
   "source": [
    "x=0\n",
    "while x <= 100:\n",
    "    if x % 3 == 0 and x % 5 == 0 :\n",
    "        print (\"FizzBuzz\")\n",
    "    elif x % 5 == 0 : \n",
    "        print (\"Buzz\")\n",
    "    elif x % 3 ==0 :\n",
    "        print (\"Fizz\")\n",
    "  \n",
    "    else : \n",
    "            print (x)\n",
    "\n",
    "    x+=1\n",
    "    "
   ]
  },
  {
   "cell_type": "code",
   "execution_count": null,
   "id": "2a35cfbd",
   "metadata": {},
   "outputs": [
    {
     "name": "stdout",
     "output_type": "stream",
     "text": [
      "please enter first wordlila\n",
      "please enter second wordlala\n",
      "true\n",
      "please enter first wordmo\n",
      "please enter second wordsalah\n",
      "false\n",
      "please enter first wordfalse\n",
      "please enter second wordfalse\n",
      "true\n"
     ]
    }
   ],
   "source": [
    "while True :\n",
    "    x=input(\"please enter first word\")\n",
    "    y=input (\"please enter second word\")\n",
    "    if x[0] == y[0] : \n",
    "        print (\"true\")\n",
    "    else : \n",
    "        print (\"false\")"
   ]
  },
  {
   "cell_type": "code",
   "execution_count": 6,
   "id": "d6509898",
   "metadata": {},
   "outputs": [
    {
     "name": "stdout",
     "output_type": "stream",
     "text": [
      "please enter number :5\n",
      "sum =  15\n"
     ]
    }
   ],
   "source": [
    "x = int(input(\"please enter number :\"))\n",
    "s = 0\n",
    "y=0\n",
    "for y in range (0,x+1) :\n",
    "    s = y + s\n",
    "print (\"sum = \" , s)"
   ]
  },
  {
   "cell_type": "code",
   "execution_count": 28,
   "id": "884aa63c",
   "metadata": {},
   "outputs": [
    {
     "name": "stdout",
     "output_type": "stream",
     "text": [
      "['abc', 'hello', 'hey']\n"
     ]
    }
   ],
   "source": [
    "s = ['abc','a','b','hello','h1','hey']\n",
    "x=[]\n",
    "for i in range (0,len(s)) :\n",
    "    if len (s[i]) >= 3 :\n",
    "        x.append(s[i])\n",
    "print (x)"
   ]
  },
  {
   "cell_type": "code",
   "execution_count": 22,
   "id": "9759525d",
   "metadata": {},
   "outputs": [
    {
     "name": "stdout",
     "output_type": "stream",
     "text": [
      "please enter number1\n",
      "please enter number2\n",
      "please enter number3\n",
      "please enter number4\n",
      "please enter number5\n",
      "[1, 3, 5]\n"
     ]
    }
   ],
   "source": [
    "s=[]\n",
    "z=0\n",
    "for y in range (0,5) :\n",
    "    x = int (input('please enter number'))\n",
    "    s.append(x)\n",
    "\n",
    "s2 = []\n",
    "for z in range (0,len(s)):\n",
    "    if s[z] % 2 == 1: \n",
    "        s2.append(s[z])\n",
    "print (s2)"
   ]
  },
  {
   "cell_type": "code",
   "execution_count": 23,
   "id": "6492098e",
   "metadata": {},
   "outputs": [
    {
     "name": "stdout",
     "output_type": "stream",
     "text": [
      "[3, 3, 3]\n"
     ]
    }
   ],
   "source": [
    "l1=[1,2,3]\n",
    "l2=[4,5,6]\n",
    "l3=[]\n",
    "for x in range (0,3) :\n",
    "    l3.append(l2[x]-l1[x])\n",
    "print (l3)\n",
    "    \n",
    "    "
   ]
  },
  {
   "cell_type": "code",
   "execution_count": 27,
   "id": "936434f7",
   "metadata": {},
   "outputs": [
    {
     "name": "stdout",
     "output_type": "stream",
     "text": [
      "[10, 8, 6, 4, 2]\n",
      "5\n"
     ]
    }
   ],
   "source": [
    "l=[2,4,6,8,10]\n",
    "l2=[]\n",
    "for i in range (len(l),0,-1):\n",
    "    l2.append(l[i-1])\n",
    "print (l2)\n",
    "print(len(l))"
   ]
  },
  {
   "cell_type": "code",
   "execution_count": 30,
   "id": "b664cf89",
   "metadata": {},
   "outputs": [
    {
     "name": "stdout",
     "output_type": "stream",
     "text": [
      "s\n",
      "c\n",
      "h\n",
      "o\n",
      "o\n",
      "l\n"
     ]
    }
   ],
   "source": [
    "s = \"school\"\n",
    "for i in s :\n",
    "    print (i)"
   ]
  }
 ],
 "metadata": {
  "kernelspec": {
   "display_name": "Python 3 (ipykernel)",
   "language": "python",
   "name": "python3"
  },
  "language_info": {
   "codemirror_mode": {
    "name": "ipython",
    "version": 3
   },
   "file_extension": ".py",
   "mimetype": "text/x-python",
   "name": "python",
   "nbconvert_exporter": "python",
   "pygments_lexer": "ipython3",
   "version": "3.9.12"
  }
 },
 "nbformat": 4,
 "nbformat_minor": 5
}
